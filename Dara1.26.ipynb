{
 "cells": [
  {
   "cell_type": "markdown",
   "metadata": {},
   "source": [
    "## Final Project Submission\n",
    "\n",
    "Please fill out:\n",
    "* Student name: \n",
    "* Student pace: self paced / part time / full time\n",
    "* Scheduled project review date/time: \n",
    "* Instructor name: \n",
    "* Blog post URL:\n"
   ]
  },
  {
   "cell_type": "code",
   "execution_count": 2,
   "metadata": {},
   "outputs": [],
   "source": [
    "import pandas as pd\n",
    "import gzip as gz\n",
    "import matplotlib.pyplot as plt\n",
    "import sqlite3\n",
    "import os\n",
    "import zipfile\n",
    "import seaborn as sns\n",
    "import math\n",
    "import random\n",
    "from sklearn.linear_model import LinearRegression"
   ]
  },
  {
   "cell_type": "code",
   "execution_count": 3,
   "metadata": {},
   "outputs": [],
   "source": [
    "# Opened the relevant datasets to be explored in jupyter notebook\n",
    "#if not os.path.exists('zippedData/im.db'):\n",
    "with zipfile.ZipFile('zippedData/im.db.zip') as my_zip:\n",
    "    zipfile.ZipFile.extractall(my_zip,path='zippedData/')\n",
    "with gz.open('zippedData/rt.reviews.tsv.gz') as f:\n",
    "    rt_reviews = pd.read_csv(f,delimiter='\\t',encoding='latin1')\n",
    "with gz.open('zippedData/rt.movie_info.tsv.gz') as f:\n",
    "    rt_movie_info = pd.read_csv(f,delimiter='\\t',encoding='latin1')\n",
    "with gz.open('zippedData/tmdb.movies.csv.gz') as f:\n",
    "    tmdb_movies = pd.read_csv(f)\n",
    "with gz.open('zippedData/tn.movie_budgets.csv.gz') as f:\n",
    "    tn_movie_budgets = pd.read_csv(f)\n",
    "with gz.open('zippedData/bom.movie_gross.csv.gz') as f:\n",
    "    bom_movie_gross = pd.read_csv(f)"
   ]
  },
  {
   "cell_type": "code",
   "execution_count": 4,
   "metadata": {},
   "outputs": [],
   "source": [
    "# Connected to and opened the imdb database to utilize the data\n",
    "im_db = sqlite3.connect('zippedData/im.db')\n",
    "imdb_df = pd.read_sql(\"\"\"SELECT * FROM movie_basics\"\"\",im_db)"
   ]
  },
  {
   "cell_type": "code",
   "execution_count": 5,
   "metadata": {},
   "outputs": [
    {
     "data": {
      "text/html": [
       "<div>\n",
       "<style scoped>\n",
       "    .dataframe tbody tr th:only-of-type {\n",
       "        vertical-align: middle;\n",
       "    }\n",
       "\n",
       "    .dataframe tbody tr th {\n",
       "        vertical-align: top;\n",
       "    }\n",
       "\n",
       "    .dataframe thead th {\n",
       "        text-align: right;\n",
       "    }\n",
       "</style>\n",
       "<table border=\"1\" class=\"dataframe\">\n",
       "  <thead>\n",
       "    <tr style=\"text-align: right;\">\n",
       "      <th></th>\n",
       "      <th>movie_id</th>\n",
       "      <th>primary_title</th>\n",
       "      <th>genres</th>\n",
       "      <th>person_id</th>\n",
       "      <th>primary_name</th>\n",
       "      <th>death_year</th>\n",
       "    </tr>\n",
       "  </thead>\n",
       "  <tbody>\n",
       "    <tr>\n",
       "      <th>0</th>\n",
       "      <td>tt0063540</td>\n",
       "      <td>Sunghursh</td>\n",
       "      <td>Action,Crime,Drama</td>\n",
       "      <td>nm0712540</td>\n",
       "      <td>Harnam Singh Rawail</td>\n",
       "      <td>2004.0</td>\n",
       "    </tr>\n",
       "    <tr>\n",
       "      <th>1</th>\n",
       "      <td>tt0063540</td>\n",
       "      <td>Sunghursh</td>\n",
       "      <td>Action,Crime,Drama</td>\n",
       "      <td>nm0712540</td>\n",
       "      <td>Harnam Singh Rawail</td>\n",
       "      <td>2004.0</td>\n",
       "    </tr>\n",
       "    <tr>\n",
       "      <th>2</th>\n",
       "      <td>tt0069049</td>\n",
       "      <td>The Other Side of the Wind</td>\n",
       "      <td>Drama</td>\n",
       "      <td>nm0000080</td>\n",
       "      <td>Orson Welles</td>\n",
       "      <td>1985.0</td>\n",
       "    </tr>\n",
       "    <tr>\n",
       "      <th>3</th>\n",
       "      <td>tt0069049</td>\n",
       "      <td>The Other Side of the Wind</td>\n",
       "      <td>Drama</td>\n",
       "      <td>nm0000080</td>\n",
       "      <td>Orson Welles</td>\n",
       "      <td>1985.0</td>\n",
       "    </tr>\n",
       "    <tr>\n",
       "      <th>4</th>\n",
       "      <td>tt0069049</td>\n",
       "      <td>The Other Side of the Wind</td>\n",
       "      <td>Drama</td>\n",
       "      <td>nm0000080</td>\n",
       "      <td>Orson Welles</td>\n",
       "      <td>1985.0</td>\n",
       "    </tr>\n",
       "    <tr>\n",
       "      <th>...</th>\n",
       "      <td>...</td>\n",
       "      <td>...</td>\n",
       "      <td>...</td>\n",
       "      <td>...</td>\n",
       "      <td>...</td>\n",
       "      <td>...</td>\n",
       "    </tr>\n",
       "    <tr>\n",
       "      <th>991711</th>\n",
       "      <td>tt9916754</td>\n",
       "      <td>Chico Albuquerque - Revelações</td>\n",
       "      <td>Documentary</td>\n",
       "      <td>nm8349149</td>\n",
       "      <td>Vinicius Augusto Bozzo</td>\n",
       "      <td>NaN</td>\n",
       "    </tr>\n",
       "    <tr>\n",
       "      <th>991712</th>\n",
       "      <td>tt9916754</td>\n",
       "      <td>Chico Albuquerque - Revelações</td>\n",
       "      <td>Documentary</td>\n",
       "      <td>nm9272490</td>\n",
       "      <td>Angela Gurgel</td>\n",
       "      <td>NaN</td>\n",
       "    </tr>\n",
       "    <tr>\n",
       "      <th>991713</th>\n",
       "      <td>tt9916754</td>\n",
       "      <td>Chico Albuquerque - Revelações</td>\n",
       "      <td>Documentary</td>\n",
       "      <td>nm8349149</td>\n",
       "      <td>Vinicius Augusto Bozzo</td>\n",
       "      <td>NaN</td>\n",
       "    </tr>\n",
       "    <tr>\n",
       "      <th>991714</th>\n",
       "      <td>tt9916754</td>\n",
       "      <td>Chico Albuquerque - Revelações</td>\n",
       "      <td>Documentary</td>\n",
       "      <td>nm9272490</td>\n",
       "      <td>Angela Gurgel</td>\n",
       "      <td>NaN</td>\n",
       "    </tr>\n",
       "    <tr>\n",
       "      <th>991715</th>\n",
       "      <td>tt9916754</td>\n",
       "      <td>Chico Albuquerque - Revelações</td>\n",
       "      <td>Documentary</td>\n",
       "      <td>nm8349149</td>\n",
       "      <td>Vinicius Augusto Bozzo</td>\n",
       "      <td>NaN</td>\n",
       "    </tr>\n",
       "  </tbody>\n",
       "</table>\n",
       "<p>991716 rows × 6 columns</p>\n",
       "</div>"
      ],
      "text/plain": [
       "         movie_id                   primary_title              genres  \\\n",
       "0       tt0063540                       Sunghursh  Action,Crime,Drama   \n",
       "1       tt0063540                       Sunghursh  Action,Crime,Drama   \n",
       "2       tt0069049      The Other Side of the Wind               Drama   \n",
       "3       tt0069049      The Other Side of the Wind               Drama   \n",
       "4       tt0069049      The Other Side of the Wind               Drama   \n",
       "...           ...                             ...                 ...   \n",
       "991711  tt9916754  Chico Albuquerque - Revelações         Documentary   \n",
       "991712  tt9916754  Chico Albuquerque - Revelações         Documentary   \n",
       "991713  tt9916754  Chico Albuquerque - Revelações         Documentary   \n",
       "991714  tt9916754  Chico Albuquerque - Revelações         Documentary   \n",
       "991715  tt9916754  Chico Albuquerque - Revelações         Documentary   \n",
       "\n",
       "        person_id            primary_name  death_year  \n",
       "0       nm0712540     Harnam Singh Rawail      2004.0  \n",
       "1       nm0712540     Harnam Singh Rawail      2004.0  \n",
       "2       nm0000080            Orson Welles      1985.0  \n",
       "3       nm0000080            Orson Welles      1985.0  \n",
       "4       nm0000080            Orson Welles      1985.0  \n",
       "...           ...                     ...         ...  \n",
       "991711  nm8349149  Vinicius Augusto Bozzo         NaN  \n",
       "991712  nm9272490           Angela Gurgel         NaN  \n",
       "991713  nm8349149  Vinicius Augusto Bozzo         NaN  \n",
       "991714  nm9272490           Angela Gurgel         NaN  \n",
       "991715  nm8349149  Vinicius Augusto Bozzo         NaN  \n",
       "\n",
       "[991716 rows x 6 columns]"
      ]
     },
     "execution_count": 5,
     "metadata": {},
     "output_type": "execute_result"
    }
   ],
   "source": [
    "# Created a SQL query to pull director name and info from the imdb database\n",
    "director_info = \"\"\"\n",
    "SELECT\n",
    "    m.movie_id,\n",
    "    m.primary_title,\n",
    "    m.genres,\n",
    "    d.person_id,\n",
    "    p.primary_name,\n",
    "    p.death_year\n",
    "    \n",
    "    \n",
    "FROM\n",
    "    movie_basics AS m\n",
    "    JOIN \n",
    "        directors AS d ON m.movie_id = d.movie_id\n",
    "    JOIN\n",
    "        known_for AS kf ON m.movie_id = kf.movie_id\n",
    "    JOIN\n",
    "        persons AS p ON p.person_id = d.person_id\n",
    "GROUP BY\n",
    "    m.movie_id, kf.person_id, p.primary_name\n",
    ";\n",
    "\"\"\"\n",
    "director_info_result = pd.read_sql(director_info, im_db)\n",
    "director_info_result"
   ]
  },
  {
   "cell_type": "code",
   "execution_count": 6,
   "metadata": {},
   "outputs": [
    {
     "name": "stderr",
     "output_type": "stream",
     "text": [
      "<ipython-input-6-1177ee1ecce1>:15: SettingWithCopyWarning: \n",
      "A value is trying to be set on a copy of a slice from a DataFrame.\n",
      "Try using .loc[row_indexer,col_indexer] = value instead\n",
      "\n",
      "See the caveats in the documentation: https://pandas.pydata.org/pandas-docs/stable/user_guide/indexing.html#returning-a-view-versus-a-copy\n",
      "  tn_relevant['profit'] = profit\n"
     ]
    },
    {
     "data": {
      "text/html": [
       "<div>\n",
       "<style scoped>\n",
       "    .dataframe tbody tr th:only-of-type {\n",
       "        vertical-align: middle;\n",
       "    }\n",
       "\n",
       "    .dataframe tbody tr th {\n",
       "        vertical-align: top;\n",
       "    }\n",
       "\n",
       "    .dataframe thead th {\n",
       "        text-align: right;\n",
       "    }\n",
       "</style>\n",
       "<table border=\"1\" class=\"dataframe\">\n",
       "  <thead>\n",
       "    <tr style=\"text-align: right;\">\n",
       "      <th></th>\n",
       "      <th>title</th>\n",
       "      <th>year</th>\n",
       "      <th>month</th>\n",
       "      <th>clean_budget</th>\n",
       "      <th>clean_domestic</th>\n",
       "      <th>clean_foreign</th>\n",
       "      <th>clean_worldwide</th>\n",
       "      <th>profit</th>\n",
       "    </tr>\n",
       "  </thead>\n",
       "  <tbody>\n",
       "    <tr>\n",
       "      <th>0</th>\n",
       "      <td>Avatar</td>\n",
       "      <td>2009</td>\n",
       "      <td>Dec</td>\n",
       "      <td>425000000</td>\n",
       "      <td>760507625</td>\n",
       "      <td>2015837654</td>\n",
       "      <td>2776345279</td>\n",
       "      <td>2351345279</td>\n",
       "    </tr>\n",
       "    <tr>\n",
       "      <th>1</th>\n",
       "      <td>Pirates of the Caribbean: On Stranger Tides</td>\n",
       "      <td>2011</td>\n",
       "      <td>May</td>\n",
       "      <td>410600000</td>\n",
       "      <td>241063875</td>\n",
       "      <td>804600000</td>\n",
       "      <td>1045663875</td>\n",
       "      <td>635063875</td>\n",
       "    </tr>\n",
       "    <tr>\n",
       "      <th>2</th>\n",
       "      <td>Dark Phoenix</td>\n",
       "      <td>2019</td>\n",
       "      <td>Jun</td>\n",
       "      <td>350000000</td>\n",
       "      <td>42762350</td>\n",
       "      <td>107000000</td>\n",
       "      <td>149762350</td>\n",
       "      <td>-200237650</td>\n",
       "    </tr>\n",
       "    <tr>\n",
       "      <th>3</th>\n",
       "      <td>Avengers: Age of Ultron</td>\n",
       "      <td>2015</td>\n",
       "      <td>May</td>\n",
       "      <td>330600000</td>\n",
       "      <td>459005868</td>\n",
       "      <td>944008095</td>\n",
       "      <td>1403013963</td>\n",
       "      <td>1072413963</td>\n",
       "    </tr>\n",
       "    <tr>\n",
       "      <th>4</th>\n",
       "      <td>Star Wars Ep. VIII: The Last Jedi</td>\n",
       "      <td>2017</td>\n",
       "      <td>Dec</td>\n",
       "      <td>317000000</td>\n",
       "      <td>620181382</td>\n",
       "      <td>696540365</td>\n",
       "      <td>1316721747</td>\n",
       "      <td>999721747</td>\n",
       "    </tr>\n",
       "  </tbody>\n",
       "</table>\n",
       "</div>"
      ],
      "text/plain": [
       "                                         title  year month  clean_budget  \\\n",
       "0                                       Avatar  2009   Dec     425000000   \n",
       "1  Pirates of the Caribbean: On Stranger Tides  2011   May     410600000   \n",
       "2                                 Dark Phoenix  2019   Jun     350000000   \n",
       "3                      Avengers: Age of Ultron  2015   May     330600000   \n",
       "4            Star Wars Ep. VIII: The Last Jedi  2017   Dec     317000000   \n",
       "\n",
       "   clean_domestic  clean_foreign  clean_worldwide      profit  \n",
       "0       760507625     2015837654       2776345279  2351345279  \n",
       "1       241063875      804600000       1045663875   635063875  \n",
       "2        42762350      107000000        149762350  -200237650  \n",
       "3       459005868      944008095       1403013963  1072413963  \n",
       "4       620181382      696540365       1316721747   999721747  "
      ]
     },
     "execution_count": 6,
     "metadata": {},
     "output_type": "execute_result"
    }
   ],
   "source": [
    "tn_movie_budgets['year'] = tn_movie_budgets['release_date'].str[-4:]\n",
    "tn_movie_budgets['month'] = tn_movie_budgets['release_date'].str[:3]\n",
    "tn_movie_budgets['clean_budget'] = tn_movie_budgets['production_budget'].str.replace('$','')\n",
    "tn_movie_budgets['clean_budget'] = tn_movie_budgets['clean_budget'].str.replace(',','').astype(int)\n",
    "tn_movie_budgets['clean_domestic'] = tn_movie_budgets['domestic_gross'].str.replace('$','')\n",
    "tn_movie_budgets['clean_domestic'] = tn_movie_budgets['clean_domestic'].str.replace(',','').astype(int)\n",
    "tn_movie_budgets['clean_worldwide'] = tn_movie_budgets['worldwide_gross'].str.replace('$','')\n",
    "tn_movie_budgets['clean_worldwide'] = tn_movie_budgets['clean_worldwide'].str.replace(',','').astype('int64')\n",
    "tn_movie_budgets['clean_foreign'] = tn_movie_budgets['clean_worldwide'] - tn_movie_budgets['clean_domestic']\n",
    "tn_movie_budgets.rename({'movie':'title'},axis=1,inplace=True)\n",
    "#tn_movie_budgets.info()\n",
    "tn_relevant_cols = ['title','year','month','clean_budget','clean_domestic','clean_foreign','clean_worldwide']\n",
    "tn_relevant = tn_movie_budgets[tn_relevant_cols]\n",
    "profit = tn_relevant['clean_worldwide']- tn_relevant['clean_budget']\n",
    "tn_relevant['profit'] = profit\n",
    "tn_relevant.head()"
   ]
  },
  {
   "cell_type": "code",
   "execution_count": 7,
   "metadata": {},
   "outputs": [],
   "source": [
    "def season_category(month):\n",
    "    if month in ['Dec', 'Jan', 'Feb']:\n",
    "        return 'Winter'\n",
    "    elif month in ['Mar', 'Apr', 'May']:\n",
    "        return  'Spring'\n",
    "    elif month in ['Jun', 'Jul', 'Aug']:\n",
    "        return 'Summer'\n",
    "    else:\n",
    "        return 'Autumn'"
   ]
  },
  {
   "cell_type": "code",
   "execution_count": 8,
   "metadata": {},
   "outputs": [
    {
     "name": "stdout",
     "output_type": "stream",
     "text": [
      "Summer\n"
     ]
    }
   ],
   "source": [
    "print(season_category('Aug'))"
   ]
  },
  {
   "cell_type": "code",
   "execution_count": 26,
   "metadata": {},
   "outputs": [
    {
     "ename": "SyntaxError",
     "evalue": "invalid syntax (<ipython-input-26-32924ff42d9a>, line 2)",
     "output_type": "error",
     "traceback": [
      "\u001b[0;36m  File \u001b[0;32m\"<ipython-input-26-32924ff42d9a>\"\u001b[0;36m, line \u001b[0;32m2\u001b[0m\n\u001b[0;31m    print(season_category.all?)\u001b[0m\n\u001b[0m                             ^\u001b[0m\n\u001b[0;31mSyntaxError\u001b[0m\u001b[0;31m:\u001b[0m invalid syntax\n"
     ]
    }
   ],
   "source": [
    "# tn_relevant['Seasons'] = tn_relevant['month'].apply(season_category)\n",
    "print(season_category.all?)"
   ]
  },
  {
   "cell_type": "code",
   "execution_count": 10,
   "metadata": {},
   "outputs": [
    {
     "data": {
      "text/html": [
       "<div>\n",
       "<style scoped>\n",
       "    .dataframe tbody tr th:only-of-type {\n",
       "        vertical-align: middle;\n",
       "    }\n",
       "\n",
       "    .dataframe tbody tr th {\n",
       "        vertical-align: top;\n",
       "    }\n",
       "\n",
       "    .dataframe thead th {\n",
       "        text-align: right;\n",
       "    }\n",
       "</style>\n",
       "<table border=\"1\" class=\"dataframe\">\n",
       "  <thead>\n",
       "    <tr style=\"text-align: right;\">\n",
       "      <th></th>\n",
       "      <th>title</th>\n",
       "      <th>year</th>\n",
       "      <th>month</th>\n",
       "      <th>clean_budget</th>\n",
       "      <th>clean_domestic</th>\n",
       "      <th>clean_foreign</th>\n",
       "      <th>clean_worldwide</th>\n",
       "      <th>profit</th>\n",
       "      <th>Seasons</th>\n",
       "    </tr>\n",
       "  </thead>\n",
       "  <tbody>\n",
       "    <tr>\n",
       "      <th>0</th>\n",
       "      <td>Avatar</td>\n",
       "      <td>2009</td>\n",
       "      <td>Dec</td>\n",
       "      <td>425000000</td>\n",
       "      <td>760507625</td>\n",
       "      <td>2015837654</td>\n",
       "      <td>2776345279</td>\n",
       "      <td>2351345279</td>\n",
       "      <td>Winter</td>\n",
       "    </tr>\n",
       "    <tr>\n",
       "      <th>1</th>\n",
       "      <td>Pirates of the Caribbean: On Stranger Tides</td>\n",
       "      <td>2011</td>\n",
       "      <td>May</td>\n",
       "      <td>410600000</td>\n",
       "      <td>241063875</td>\n",
       "      <td>804600000</td>\n",
       "      <td>1045663875</td>\n",
       "      <td>635063875</td>\n",
       "      <td>Spring</td>\n",
       "    </tr>\n",
       "    <tr>\n",
       "      <th>2</th>\n",
       "      <td>Dark Phoenix</td>\n",
       "      <td>2019</td>\n",
       "      <td>Jun</td>\n",
       "      <td>350000000</td>\n",
       "      <td>42762350</td>\n",
       "      <td>107000000</td>\n",
       "      <td>149762350</td>\n",
       "      <td>-200237650</td>\n",
       "      <td>Summer</td>\n",
       "    </tr>\n",
       "    <tr>\n",
       "      <th>3</th>\n",
       "      <td>Avengers: Age of Ultron</td>\n",
       "      <td>2015</td>\n",
       "      <td>May</td>\n",
       "      <td>330600000</td>\n",
       "      <td>459005868</td>\n",
       "      <td>944008095</td>\n",
       "      <td>1403013963</td>\n",
       "      <td>1072413963</td>\n",
       "      <td>Spring</td>\n",
       "    </tr>\n",
       "    <tr>\n",
       "      <th>4</th>\n",
       "      <td>Star Wars Ep. VIII: The Last Jedi</td>\n",
       "      <td>2017</td>\n",
       "      <td>Dec</td>\n",
       "      <td>317000000</td>\n",
       "      <td>620181382</td>\n",
       "      <td>696540365</td>\n",
       "      <td>1316721747</td>\n",
       "      <td>999721747</td>\n",
       "      <td>Winter</td>\n",
       "    </tr>\n",
       "  </tbody>\n",
       "</table>\n",
       "</div>"
      ],
      "text/plain": [
       "                                         title  year month  clean_budget  \\\n",
       "0                                       Avatar  2009   Dec     425000000   \n",
       "1  Pirates of the Caribbean: On Stranger Tides  2011   May     410600000   \n",
       "2                                 Dark Phoenix  2019   Jun     350000000   \n",
       "3                      Avengers: Age of Ultron  2015   May     330600000   \n",
       "4            Star Wars Ep. VIII: The Last Jedi  2017   Dec     317000000   \n",
       "\n",
       "   clean_domestic  clean_foreign  clean_worldwide      profit Seasons  \n",
       "0       760507625     2015837654       2776345279  2351345279  Winter  \n",
       "1       241063875      804600000       1045663875   635063875  Spring  \n",
       "2        42762350      107000000        149762350  -200237650  Summer  \n",
       "3       459005868      944008095       1403013963  1072413963  Spring  \n",
       "4       620181382      696540365       1316721747   999721747  Winter  "
      ]
     },
     "execution_count": 10,
     "metadata": {},
     "output_type": "execute_result"
    }
   ],
   "source": [
    "tn_relevant.head()"
   ]
  },
  {
   "cell_type": "code",
   "execution_count": 53,
   "metadata": {},
   "outputs": [
    {
     "data": {
      "image/png": "[encoded data removed]",
      "text/plain": [
       "<Figure size 720x360 with 75 Axes>"
      ]
     },
     "metadata": {
      "needs_background": "light"
     },
     "output_type": "display_data"
    }
   ],
   "source": [
    "from pylab import *\n",
    "from numpy import outer\n",
    "rc('text', usetex=False)\n",
    "a=outer(arange(0,1,0.01),ones(10))\n",
    "figure(figsize=(10,5))\n",
    "subplots_adjust(top=0.8,bottom=0.05,left=0.01,right=0.99)\n",
    "maps=[m for m in cm.datad if not m.endswith(\"_r\")]\n",
    "maps.sort()\n",
    "l=len(maps)+1\n",
    "for i, m in enumerate(maps):\n",
    "     subplot(1,l,i+1)\n",
    "     axis(\"off\")\n",
    "     imshow(a,aspect='auto',cmap=get_cmap(m),origin=\"lower\")\n",
    "     title(m,rotation=90,fontsize=10)\n",
    "savefig(\"colormaps.png\",dpi=100,facecolor='gray')"
   ]
  },
  {
   "cell_type": "code",
   "execution_count": 64,
   "metadata": {},
   "outputs": [
    {
     "name": "stderr",
     "output_type": "stream",
     "text": [
      "<ipython-input-64-1b4a3b547248>:4: UserWarning: FixedFormatter should only be used together with FixedLocator\n",
      "  ax3.set_yticklabels(ax3.get_yticks()//1000000);\n"
     ]
    },
    {
     "data": {
      "text/plain": [
       "Text(0.5, 1.0, 'Median Earning Per Season')"
      ]
     },
     "execution_count": 64,
     "metadata": {},
     "output_type": "execute_result"
    },
    {
     "data": {
      "image/png": "[encoded data removed]",
      "text/plain": [
       "<Figure size 432x288 with 1 Axes>"
      ]
     },
     "metadata": {
      "needs_background": "light"
     },
     "output_type": "display_data"
    }
   ],
   "source": [
    "ax3=tn_relevant.groupby('Seasons')['clean_worldwide'].median().plot(kind='bar', stacked=True, colormap='summer')\n",
    "\n",
    "ax3.set_ylabel('Median Worldwide Gorss (Millions)');\n",
    "ax3.set_yticklabels(ax3.get_yticks()//1000000);\n",
    "ax3.set_title('Median Earning Per Season')\n",
    "\n"
   ]
  },
  {
   "cell_type": "code",
   "execution_count": 65,
   "metadata": {},
   "outputs": [
    {
     "name": "stderr",
     "output_type": "stream",
     "text": [
      "<ipython-input-65-89d9ea5dd1d1>:4: UserWarning: FixedFormatter should only be used together with FixedLocator\n",
      "  ax3.set_yticklabels(ax3.get_yticks()//1000000);\n"
     ]
    },
    {
     "data": {
      "text/plain": [
       "Text(0.5, 1.0, 'Median Earning Per Season')"
      ]
     },
     "execution_count": 65,
     "metadata": {},
     "output_type": "execute_result"
    },
    {
     "data": {
      "image/png": "[encoded data removed]",
      "text/plain": [
       "<Figure size 432x288 with 1 Axes>"
      ]
     },
     "metadata": {
      "needs_background": "light"
     },
     "output_type": "display_data"
    }
   ],
   "source": [
    "ax3=tn_relevant.groupby('month')['clean_worldwide'].median().plot(kind='bar', stacked=True, colormap='summer')\n",
    "\n",
    "ax3.set_ylabel('Median Worldwide Gorss (Millions)');\n",
    "ax3.set_yticklabels(ax3.get_yticks()//1000000);\n",
    "ax3.set_title('Median Earning Per Season')"
   ]
  },
  {
   "cell_type": "code",
   "execution_count": null,
   "metadata": {},
   "outputs": [
    {
     "data": {
      "text/html": [
       "<div>\n",
       "<style scoped>\n",
       "    .dataframe tbody tr th:only-of-type {\n",
       "        vertical-align: middle;\n",
       "    }\n",
       "\n",
       "    .dataframe tbody tr th {\n",
       "        vertical-align: top;\n",
       "    }\n",
       "\n",
       "    .dataframe thead th {\n",
       "        text-align: right;\n",
       "    }\n",
       "</style>\n",
       "<table border=\"1\" class=\"dataframe\">\n",
       "  <thead>\n",
       "    <tr style=\"text-align: right;\">\n",
       "      <th></th>\n",
       "      <th>title</th>\n",
       "      <th>year</th>\n",
       "      <th>month</th>\n",
       "      <th>clean_budget</th>\n",
       "      <th>clean_domestic</th>\n",
       "      <th>clean_foreign</th>\n",
       "      <th>clean_worldwide</th>\n",
       "      <th>profit</th>\n",
       "      <th>Seasons</th>\n",
       "    </tr>\n",
       "  </thead>\n",
       "  <tbody>\n",
       "    <tr>\n",
       "      <th>0</th>\n",
       "      <td>Avatar</td>\n",
       "      <td>2009</td>\n",
       "      <td>Dec</td>\n",
       "      <td>425000000</td>\n",
       "      <td>760507625</td>\n",
       "      <td>2015837654</td>\n",
       "      <td>2776345279</td>\n",
       "      <td>2351345279</td>\n",
       "      <td>Winter</td>\n",
       "    </tr>\n",
       "    <tr>\n",
       "      <th>1</th>\n",
       "      <td>Pirates of the Caribbean: On Stranger Tides</td>\n",
       "      <td>2011</td>\n",
       "      <td>May</td>\n",
       "      <td>410600000</td>\n",
       "      <td>241063875</td>\n",
       "      <td>804600000</td>\n",
       "      <td>1045663875</td>\n",
       "      <td>635063875</td>\n",
       "      <td>Spring</td>\n",
       "    </tr>\n",
       "    <tr>\n",
       "      <th>2</th>\n",
       "      <td>Dark Phoenix</td>\n",
       "      <td>2019</td>\n",
       "      <td>Jun</td>\n",
       "      <td>350000000</td>\n",
       "      <td>42762350</td>\n",
       "      <td>107000000</td>\n",
       "      <td>149762350</td>\n",
       "      <td>-200237650</td>\n",
       "      <td>Summer</td>\n",
       "    </tr>\n",
       "    <tr>\n",
       "      <th>3</th>\n",
       "      <td>Avengers: Age of Ultron</td>\n",
       "      <td>2015</td>\n",
       "      <td>May</td>\n",
       "      <td>330600000</td>\n",
       "      <td>459005868</td>\n",
       "      <td>944008095</td>\n",
       "      <td>1403013963</td>\n",
       "      <td>1072413963</td>\n",
       "      <td>Spring</td>\n",
       "    </tr>\n",
       "    <tr>\n",
       "      <th>4</th>\n",
       "      <td>Star Wars Ep. VIII: The Last Jedi</td>\n",
       "      <td>2017</td>\n",
       "      <td>Dec</td>\n",
       "      <td>317000000</td>\n",
       "      <td>620181382</td>\n",
       "      <td>696540365</td>\n",
       "      <td>1316721747</td>\n",
       "      <td>999721747</td>\n",
       "      <td>Winter</td>\n",
       "    </tr>\n",
       "  </tbody>\n",
       "</table>\n",
       "</div>"
      ],
      "text/plain": [
       "                                         title  year month  clean_budget  \\\n",
       "0                                       Avatar  2009   Dec     425000000   \n",
       "1  Pirates of the Caribbean: On Stranger Tides  2011   May     410600000   \n",
       "2                                 Dark Phoenix  2019   Jun     350000000   \n",
       "3                      Avengers: Age of Ultron  2015   May     330600000   \n",
       "4            Star Wars Ep. VIII: The Last Jedi  2017   Dec     317000000   \n",
       "\n",
       "   clean_domestic  clean_foreign  clean_worldwide      profit Seasons  \n",
       "0       760507625     2015837654       2776345279  2351345279  Winter  \n",
       "1       241063875      804600000       1045663875   635063875  Spring  \n",
       "2        42762350      107000000        149762350  -200237650  Summer  \n",
       "3       459005868      944008095       1403013963  1072413963  Spring  \n",
       "4       620181382      696540365       1316721747   999721747  Winter  "
      ]
     },
     "execution_count": 96,
     "metadata": {},
     "output_type": "execute_result"
    }
   ],
   "source": [
    "tn_relevant.head()"
   ]
  },
  {
   "cell_type": "code",
   "execution_count": null,
   "metadata": {},
   "outputs": [],
   "source": []
  },
  {
   "cell_type": "code",
   "execution_count": null,
   "metadata": {},
   "outputs": [],
   "source": []
  },
  {
   "cell_type": "markdown",
   "metadata": {},
   "source": []
  }
 ],
 "metadata": {
  "kernelspec": {
   "display_name": "Python 3",
   "language": "python",
   "name": "python3"
  },
  "language_info": {
   "codemirror_mode": {
    "name": "ipython",
    "version": 3
   },
   "file_extension": ".py",
   "mimetype": "text/x-python",
   "name": "python",
   "nbconvert_exporter": "python",
   "pygments_lexer": "ipython3",
   "version": "3.8.5"
  }
 },
 "nbformat": 4,
 "nbformat_minor": 2
}
