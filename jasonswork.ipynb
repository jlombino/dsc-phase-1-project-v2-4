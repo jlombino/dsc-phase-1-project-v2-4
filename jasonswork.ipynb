{
 "cells": [
  {
   "cell_type": "markdown",
   "metadata": {},
   "source": [
    "## Final Project Submission\n",
    "\n",
    "Please fill out:\n",
    "* Student name: \n",
    "* Student pace: self paced / part time / full time\n",
    "* Scheduled project review date/time: \n",
    "* Instructor name: \n",
    "* Blog post URL:\n"
   ]
  },
  {
   "cell_type": "code",
   "execution_count": 19,
   "metadata": {},
   "outputs": [],
   "source": [
    "# Your code here - remember to use markdown cells for comments as well!\n",
    "import sqlite3\n",
    "import pandas as pd\n",
    "import gzip as gz\n",
    "import zipfile\n",
    "import os\n",
    "import math\n",
    "import matplotlib.pyplot as plt"
   ]
  },
  {
   "cell_type": "code",
   "execution_count": 20,
   "metadata": {},
   "outputs": [],
   "source": [
    "with gz.open('zippedData/rt.reviews.tsv.gz') as f:\n",
    "    rt_reviews = pd.read_csv(f,delimiter='\\t',encoding='latin1')\n",
    "with gz.open('zippedData/rt.movie_info.tsv.gz') as f:\n",
    "    rt_movie_info = pd.read_csv(f,delimiter='\\t',encoding='latin1')\n",
    "with gz.open('zippedData/tmdb.movies.csv.gz') as f:\n",
    "    tmdb_movies = pd.read_csv(f)\n",
    "with gz.open('zippedData/tn.movie_budgets.csv.gz') as f:\n",
    "    tn_movie_budgets = pd.read_csv(f)\n",
    "with gz.open('zippedData/bom.movie_gross.csv.gz') as f:\n",
    "    bom_movie_gross = pd.read_csv(f)\n",
    "if not os.path.exists('zippedData/im.db'):\n",
    "    with zipfile.ZipFile('zippedData/im.db.zip') as my_zip:\n",
    "        zipfile.ZipFile.extractall(my_zip,path='zippedData/')\n",
    "im_db = sqlite3.connect('zippedData/im.db')\n",
    "im_db_basics = pd.read_sql(\"\"\"SELECT * FROM movie_basics\"\"\",im_db)\n",
    "im_db_ratings = pd.read_sql(\"\"\"SELECT * FROM movie_ratings\"\"\",im_db)\n"
   ]
  },
  {
   "cell_type": "code",
   "execution_count": 21,
   "metadata": {},
   "outputs": [],
   "source": [
    "tn_movie_budgets['year'] = tn_movie_budgets['release_date'].str[-4:]\n",
    "tn_movie_budgets['clean_budget'] = tn_movie_budgets['production_budget'].str.replace('$','')\n",
    "tn_movie_budgets['clean_budget'] = tn_movie_budgets['clean_budget'].str.replace(',','').astype(int)\n",
    "tn_movie_budgets['clean_domestic'] = tn_movie_budgets['domestic_gross'].str.replace('$','')\n",
    "tn_movie_budgets['clean_domestic'] = tn_movie_budgets['clean_domestic'].str.replace(',','').astype(int)\n",
    "tn_movie_budgets['clean_worldwide'] = tn_movie_budgets['worldwide_gross'].str.replace('$','')\n",
    "tn_movie_budgets['clean_worldwide'] = tn_movie_budgets['clean_worldwide'].str.replace(',','').astype(int)\n",
    "tn_movie_budgets['clean_foreign'] = tn_movie_budgets['clean_worldwide'] - tn_movie_budgets['clean_domestic']\n",
    "tn_movie_budgets.rename({'movie':'title'},axis=1,inplace=True)\n",
    "#tn_movie_budgets.info()\n",
    "tn_relevant_cols = ['title','year','clean_budget','clean_domestic','clean_foreign','clean_worldwide']\n",
    "tn_relevant = tn_movie_budgets[tn_relevant_cols]\n",
    "#tn_relevant.info()"
   ]
  },
  {
   "cell_type": "code",
   "execution_count": 22,
   "metadata": {},
   "outputs": [],
   "source": [
    "bom_movie_gross['foreign_gross'] = bom_movie_gross['foreign_gross'].fillna('0')\n",
    "bom_movie_gross.dropna(inplace=True)\n",
    "bom_movie_gross['clean_domestic'] = bom_movie_gross['domestic_gross'].astype(int)\n",
    "bom_movie_gross['clean_foreign'] = bom_movie_gross['foreign_gross'].str.replace(',','').astype(float)\n",
    "bom_movie_gross['clean_foreign'] = bom_movie_gross['clean_foreign'].apply(math.trunc)\n",
    "bom_movie_gross['clean_worldwide'] = bom_movie_gross['clean_domestic'] + bom_movie_gross['clean_foreign']\n",
    "#bom_movie_gross.info()\n",
    "bom_relevant_cols = ['title','year','clean_domestic','clean_foreign','clean_worldwide']\n",
    "bom_relevant = bom_movie_gross[bom_relevant_cols]\n",
    "#bom_relevant.info()"
   ]
  },
  {
   "cell_type": "code",
   "execution_count": 23,
   "metadata": {},
   "outputs": [],
   "source": [
    "combined_financials = pd.concat([tn_relevant,bom_relevant],ignore_index=True)\n",
    "combined_financials = combined_financials.drop_duplicates(subset='title',keep='first')\n",
    "#combined_financials.info()"
   ]
  },
  {
   "cell_type": "code",
   "execution_count": 24,
   "metadata": {},
   "outputs": [],
   "source": [
    "im_db_combined = im_db_basics.merge(im_db_ratings,on='movie_id',how='inner')\n",
    "im_db_with_financial = im_db_combined.merge(combined_financials,left_on = 'primary_title',right_on = 'title',how = 'inner')"
   ]
  },
  {
   "cell_type": "code",
   "execution_count": 25,
   "metadata": {},
   "outputs": [
    {
     "name": "stdout",
     "output_type": "stream",
     "text": [
      "<class 'pandas.core.frame.DataFrame'>\n",
      "Int64Index: 4362 entries, 0 to 4361\n",
      "Data columns (total 14 columns):\n",
      " #   Column           Non-Null Count  Dtype  \n",
      "---  ------           --------------  -----  \n",
      " 0   movie_id         4362 non-null   object \n",
      " 1   primary_title    4362 non-null   object \n",
      " 2   original_title   4362 non-null   object \n",
      " 3   start_year       4362 non-null   int64  \n",
      " 4   runtime_minutes  4237 non-null   float64\n",
      " 5   genres           4354 non-null   object \n",
      " 6   averagerating    4362 non-null   float64\n",
      " 7   numvotes         4362 non-null   int64  \n",
      " 8   title            4362 non-null   object \n",
      " 9   year             4362 non-null   object \n",
      " 10  clean_budget     2752 non-null   float64\n",
      " 11  clean_domestic   4362 non-null   int64  \n",
      " 12  clean_foreign    4362 non-null   int64  \n",
      " 13  clean_worldwide  4362 non-null   int64  \n",
      "dtypes: float64(3), int64(5), object(6)\n",
      "memory usage: 511.2+ KB\n"
     ]
    }
   ],
   "source": [
    "im_db_with_financial.info()"
   ]
  },
  {
   "cell_type": "code",
   "execution_count": null,
   "metadata": {},
   "outputs": [],
   "source": []
  }
 ],
 "metadata": {
  "kernelspec": {
   "display_name": "Python 3",
   "language": "python",
   "name": "python3"
  },
  "language_info": {
   "codemirror_mode": {
    "name": "ipython",
    "version": 3
   },
   "file_extension": ".py",
   "mimetype": "text/x-python",
   "name": "python",
   "nbconvert_exporter": "python",
   "pygments_lexer": "ipython3",
   "version": "3.8.5"
  }
 },
 "nbformat": 4,
 "nbformat_minor": 2
}
