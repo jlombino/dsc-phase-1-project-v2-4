{
 "cells": [
  {
   "cell_type": "markdown",
   "metadata": {},
   "source": [
    "## Final Project Submission\n",
    "\n",
    "Please fill out:\n",
    "* Student name: \n",
    "* Student pace: self paced / part time / full time\n",
    "* Scheduled project review date/time: \n",
    "* Instructor name: \n",
    "* Blog post URL:\n"
   ]
  },
  {
   "cell_type": "code",
   "execution_count": 1,
   "metadata": {},
   "outputs": [],
   "source": [
    "# Your code here - remember to use markdown cells for comments as well!\n",
    "import sqlite3\n",
    "import pandas as pd\n",
    "import gzip as gz\n",
    "import zipfile\n",
    "import os\n",
    "import math"
   ]
  },
  {
   "cell_type": "code",
   "execution_count": 2,
   "metadata": {},
   "outputs": [],
   "source": [
    "with gz.open('zippedData/rt.reviews.tsv.gz') as f:\n",
    "    rt_reviews = pd.read_csv(f,delimiter='\\t',encoding='latin1')\n",
    "with gz.open('zippedData/rt.movie_info.tsv.gz') as f:\n",
    "    rt_movie_info = pd.read_csv(f,delimiter='\\t',encoding='latin1')\n",
    "with gz.open('zippedData/tmdb.movies.csv.gz') as f:\n",
    "    tmdb_movies = pd.read_csv(f)\n",
    "with gz.open('zippedData/tn.movie_budgets.csv.gz') as f:\n",
    "    tn_movie_budgets = pd.read_csv(f)\n",
    "with gz.open('zippedData/bom.movie_gross.csv.gz') as f:\n",
    "    bom_movie_gross = pd.read_csv(f)\n",
    "if not os.path.exists('zippedData/im.db'):\n",
    "    with zipfile.ZipFile('zippedData/im.db.zip') as my_zip:\n",
    "        zipfile.ZipFile.extractall(my_zip,path='zippedData/')\n",
    "im_db = sqlite3.connect('zippedData/im.db')\n",
    "im_db_df = pd.read_sql(\"\"\"SELECT * FROM movie_basics\"\"\",im_db)\n"
   ]
  },
  {
   "cell_type": "code",
   "execution_count": 3,
   "metadata": {},
   "outputs": [
    {
     "name": "stdout",
     "output_type": "stream",
     "text": [
      "<class 'pandas.core.frame.DataFrame'>\n",
      "RangeIndex: 5782 entries, 0 to 5781\n",
      "Data columns (total 6 columns):\n",
      " #   Column           Non-Null Count  Dtype \n",
      "---  ------           --------------  ----- \n",
      " 0   title            5782 non-null   object\n",
      " 1   year             5782 non-null   object\n",
      " 2   clean_budget     5782 non-null   int64 \n",
      " 3   clean_domestic   5782 non-null   int64 \n",
      " 4   clean_foreign    5782 non-null   int64 \n",
      " 5   clean_worldwide  5782 non-null   int64 \n",
      "dtypes: int64(4), object(2)\n",
      "memory usage: 271.2+ KB\n"
     ]
    }
   ],
   "source": [
    "tn_movie_budgets['year'] = tn_movie_budgets['release_date'].str[-4:]\n",
    "tn_movie_budgets['clean_budget'] = tn_movie_budgets['production_budget'].str.replace('$','')\n",
    "tn_movie_budgets['clean_budget'] = tn_movie_budgets['clean_budget'].str.replace(',','').astype(int)\n",
    "tn_movie_budgets['clean_domestic'] = tn_movie_budgets['domestic_gross'].str.replace('$','')\n",
    "tn_movie_budgets['clean_domestic'] = tn_movie_budgets['clean_domestic'].str.replace(',','').astype(int)\n",
    "tn_movie_budgets['clean_worldwide'] = tn_movie_budgets['worldwide_gross'].str.replace('$','')\n",
    "tn_movie_budgets['clean_worldwide'] = tn_movie_budgets['clean_worldwide'].str.replace(',','').astype(int)\n",
    "tn_movie_budgets['clean_foreign'] = tn_movie_budgets['clean_worldwide'] - tn_movie_budgets['clean_domestic']\n",
    "tn_movie_budgets.rename({'movie':'title'},axis=1,inplace=True)\n",
    "#tn_movie_budgets.info()\n",
    "tn_relevant_cols = ['title','year','clean_budget','clean_domestic','clean_foreign','clean_worldwide']\n",
    "tn_relevant = tn_movie_budgets[tn_relevant_cols]\n",
    "tn_relevant.info()"
   ]
  },
  {
   "cell_type": "code",
   "execution_count": 4,
   "metadata": {},
   "outputs": [
    {
     "name": "stdout",
     "output_type": "stream",
     "text": [
      "<class 'pandas.core.frame.DataFrame'>\n",
      "Int64Index: 3356 entries, 0 to 3386\n",
      "Data columns (total 5 columns):\n",
      " #   Column           Non-Null Count  Dtype \n",
      "---  ------           --------------  ----- \n",
      " 0   title            3356 non-null   object\n",
      " 1   year             3356 non-null   int64 \n",
      " 2   clean_domestic   3356 non-null   int64 \n",
      " 3   clean_foreign    3356 non-null   int64 \n",
      " 4   clean_worldwide  3356 non-null   int64 \n",
      "dtypes: int64(4), object(1)\n",
      "memory usage: 157.3+ KB\n"
     ]
    }
   ],
   "source": [
    "bom_movie_gross['foreign_gross'] = bom_movie_gross['foreign_gross'].fillna('0')\n",
    "bom_movie_gross.dropna(inplace=True)\n",
    "bom_movie_gross['clean_domestic'] = bom_movie_gross['domestic_gross'].astype(int)\n",
    "bom_movie_gross['clean_foreign'] = bom_movie_gross['foreign_gross'].str.replace(',','').astype(float)\n",
    "bom_movie_gross['clean_foreign'] = bom_movie_gross['clean_foreign'].apply(math.trunc)\n",
    "bom_movie_gross['clean_worldwide'] = bom_movie_gross['clean_domestic'] + bom_movie_gross['clean_foreign']\n",
    "#bom_movie_gross.info()\n",
    "bom_relevant_cols = ['title','year','clean_domestic','clean_foreign','clean_worldwide']\n",
    "bom_relevant = bom_movie_gross[bom_relevant_cols]\n",
    "bom_relevant.info()"
   ]
  },
  {
   "cell_type": "code",
   "execution_count": 9,
   "metadata": {},
   "outputs": [
    {
     "name": "stdout",
     "output_type": "stream",
     "text": [
      "<class 'pandas.core.frame.DataFrame'>\n",
      "Int64Index: 7818 entries, 0 to 9137\n",
      "Data columns (total 6 columns):\n",
      " #   Column           Non-Null Count  Dtype  \n",
      "---  ------           --------------  -----  \n",
      " 0   title            7818 non-null   object \n",
      " 1   year             7818 non-null   object \n",
      " 2   clean_budget     5698 non-null   float64\n",
      " 3   clean_domestic   7818 non-null   int64  \n",
      " 4   clean_foreign    7818 non-null   int64  \n",
      " 5   clean_worldwide  7818 non-null   int64  \n",
      "dtypes: float64(1), int64(3), object(2)\n",
      "memory usage: 427.5+ KB\n"
     ]
    }
   ],
   "source": [
    "combined_financials = pd.concat([tn_relevant,bom_relevant],ignore_index=True)\n",
    "combined_financials = combined_financials.drop_duplicates(subset='title',keep='first')\n",
    "combined_financials.info()"
   ]
  },
  {
   "cell_type": "code",
   "execution_count": null,
   "metadata": {},
   "outputs": [],
   "source": []
  }
 ],
 "metadata": {
  "kernelspec": {
   "display_name": "Python 3",
   "language": "python",
   "name": "python3"
  },
  "language_info": {
   "codemirror_mode": {
    "name": "ipython",
    "version": 3
   },
   "file_extension": ".py",
   "mimetype": "text/x-python",
   "name": "python",
   "nbconvert_exporter": "python",
   "pygments_lexer": "ipython3",
   "version": "3.8.5"
  }
 },
 "nbformat": 4,
 "nbformat_minor": 2
}
