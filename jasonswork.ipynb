{
 "cells": [
  {
   "cell_type": "markdown",
   "metadata": {},
   "source": [
    "## Final Project Submission\n",
    "\n",
    "Please fill out:\n",
    "* Student name: \n",
    "* Student pace: self paced / part time / full time\n",
    "* Scheduled project review date/time: \n",
    "* Instructor name: \n",
    "* Blog post URL:\n"
   ]
  },
  {
   "cell_type": "code",
   "execution_count": 1,
   "metadata": {},
   "outputs": [],
   "source": [
    "# Your code here - remember to use markdown cells for comments as well!\n",
    "import sqlite3\n",
    "import pandas as pd\n",
    "import gzip as gz\n",
    "import zipfile\n",
    "import os\n",
    "import math\n",
    "import matplotlib.pyplot as plt"
   ]
  },
  {
   "cell_type": "code",
   "execution_count": 2,
   "metadata": {},
   "outputs": [],
   "source": [
    "''' # Unused data\n",
    "with gz.open('zippedData/rt.reviews.tsv.gz') as f:\n",
    "    rt_reviews = pd.read_csv(f,delimiter='\\t',encoding='latin1')\n",
    "with gz.open('zippedData/rt.movie_info.tsv.gz') as f:\n",
    "    rt_movie_info = pd.read_csv(f,delimiter='\\t',encoding='latin1')\n",
    "with gz.open('zippedData/tmdb.movies.csv.gz') as f:\n",
    "    tmdb_movies = pd.read_csv(f)\n",
    "'''\n",
    "\n",
    "\n",
    "with gz.open('zippedData/tn.movie_budgets.csv.gz') as f:\n",
    "    tn_movie_budgets = pd.read_csv(f)\n",
    "with gz.open('zippedData/bom.movie_gross.csv.gz') as f:\n",
    "    bom_movie_gross = pd.read_csv(f)\n",
    "if not os.path.exists('zippedData/im.db'):\n",
    "    with zipfile.ZipFile('zippedData/im.db.zip') as my_zip:\n",
    "        zipfile.ZipFile.extractall(my_zip,path='zippedData/')\n",
    "im_db = sqlite3.connect('zippedData/im.db')\n",
    "im_db_basics = pd.read_sql(\"\"\"SELECT * FROM movie_basics\"\"\",im_db)\n",
    "im_db_ratings = pd.read_sql(\"\"\"SELECT * FROM movie_ratings\"\"\",im_db)\n",
    "im_db_persons = pd.read_sql(\"\"\"SELECT * FROM persons\"\"\",im_db)\n",
    "im_db_principals = pd.read_sql(\"\"\"SELECT * FROM principals\"\"\",im_db)\n"
   ]
  },
  {
   "cell_type": "code",
   "execution_count": 3,
   "metadata": {},
   "outputs": [],
   "source": [
    "tn_movie_budgets['year'] = tn_movie_budgets['release_date'].str[-4:]\n",
    "tn_movie_budgets['month'] = tn_movie_budgets['release_date'].str[:3]\n",
    "tn_movie_budgets['clean_budget'] = tn_movie_budgets['production_budget'].str.replace('$','')\n",
    "tn_movie_budgets['clean_budget'] = tn_movie_budgets['clean_budget'].str.replace(',','').astype(int)\n",
    "tn_movie_budgets['clean_domestic'] = tn_movie_budgets['domestic_gross'].str.replace('$','')\n",
    "tn_movie_budgets['clean_domestic'] = tn_movie_budgets['clean_domestic'].str.replace(',','').astype(int)\n",
    "tn_movie_budgets['clean_worldwide'] = tn_movie_budgets['worldwide_gross'].str.replace('$','')\n",
    "tn_movie_budgets['clean_worldwide'] = tn_movie_budgets['clean_worldwide'].str.replace(',','').astype(int)\n",
    "tn_movie_budgets['clean_foreign'] = tn_movie_budgets['clean_worldwide'] - tn_movie_budgets['clean_domestic']\n",
    "tn_movie_budgets.rename({'movie':'title'},axis=1,inplace=True)\n",
    "#tn_movie_budgets.info()\n",
    "tn_relevant_cols = ['title','year','clean_budget','clean_domestic','clean_foreign','clean_worldwide']\n",
    "tn_relevant = tn_movie_budgets[tn_relevant_cols]"
   ]
  },
  {
   "cell_type": "code",
   "execution_count": 4,
   "metadata": {},
   "outputs": [],
   "source": [
    "bom_movie_gross['foreign_gross'] = bom_movie_gross['foreign_gross'].fillna('0')\n",
    "bom_movie_gross.dropna(inplace=True)\n",
    "bom_movie_gross['clean_domestic'] = bom_movie_gross['domestic_gross'].astype(int)\n",
    "bom_movie_gross['clean_foreign'] = bom_movie_gross['foreign_gross'].str.replace(',','').astype(float)\n",
    "bom_movie_gross['clean_foreign'] = bom_movie_gross['clean_foreign'].apply(math.trunc)\n",
    "bom_movie_gross['clean_worldwide'] = bom_movie_gross['clean_domestic'] + bom_movie_gross['clean_foreign']\n",
    "#bom_movie_gross.info()\n",
    "bom_relevant_cols = ['title','year','clean_domestic','clean_foreign','clean_worldwide']\n",
    "bom_relevant = bom_movie_gross[bom_relevant_cols]\n",
    "#bom_relevant.info()"
   ]
  },
  {
   "cell_type": "code",
   "execution_count": 5,
   "metadata": {},
   "outputs": [],
   "source": [
    "combined_financials = pd.concat([tn_relevant,bom_relevant],ignore_index=True)\n",
    "combined_financials = combined_financials.drop_duplicates(subset='title',keep='first')\n",
    "#combined_financials.plot('clean_domestic','clean_foreign',kind='scatter')\n",
    "\n",
    "#Much of the budget column is empty because bom_movie_gross does not include budget information\n",
    "#Going to fill the NA budgets with the mean value\n",
    "combined_financials['clean_budget'].fillna(combined_financials['clean_budget'].median(),inplace=True)\n",
    "combined_financials['roi_domestic'] = (combined_financials['clean_domestic'] - combined_financials['clean_budget']) / combined_financials['clean_budget']\n",
    "combined_financials['roi_worldwide'] = (combined_financials['clean_worldwide'] - combined_financials['clean_budget']) / combined_financials['clean_budget']"
   ]
  },
  {
   "cell_type": "code",
   "execution_count": 92,
   "metadata": {},
   "outputs": [
    {
     "name": "stdout",
     "output_type": "stream",
     "text": [
      "<class 'pandas.core.frame.DataFrame'>\n",
      "Int64Index: 3550 entries, 0 to 3549\n",
      "Data columns (total 15 columns):\n",
      " #   Column           Non-Null Count  Dtype  \n",
      "---  ------           --------------  -----  \n",
      " 0   movie_id         3550 non-null   object \n",
      " 1   title            3550 non-null   object \n",
      " 2   original_title   3550 non-null   object \n",
      " 3   start_year       3550 non-null   int64  \n",
      " 4   runtime_minutes  3491 non-null   float64\n",
      " 5   genres           3548 non-null   object \n",
      " 6   averagerating    3550 non-null   float64\n",
      " 7   numvotes         3550 non-null   int64  \n",
      " 8   year             3550 non-null   object \n",
      " 9   clean_budget     3550 non-null   float64\n",
      " 10  clean_domestic   3550 non-null   int64  \n",
      " 11  clean_foreign    3550 non-null   int64  \n",
      " 12  clean_worldwide  3550 non-null   int64  \n",
      " 13  roi_domestic     3550 non-null   float64\n",
      " 14  roi_worldwide    3550 non-null   float64\n",
      "dtypes: float64(5), int64(5), object(5)\n",
      "memory usage: 443.8+ KB\n"
     ]
    }
   ],
   "source": [
    "im_db_combined = im_db_basics.merge(im_db_ratings,on='movie_id',how='inner')\n",
    "im_db_combined = im_db_combined.drop_duplicates(subset = 'primary_title', keep='first')\n",
    "im_db_combined.rename({'primary_title':'title'},axis=1,inplace=True)\n",
    "im_db_with_financial = im_db_combined.merge(combined_financials,on = 'title',how = 'inner')\n",
    "im_db_with_financial.info()"
   ]
  },
  {
   "cell_type": "code",
   "execution_count": 61,
   "metadata": {},
   "outputs": [],
   "source": [
    "genre_set = set()\n",
    "genre_df = im_db_with_financial['genres'].dropna()\n",
    "for genres in genre_df.values:\n",
    "    genre_list = genres.split(',')\n",
    "    new_genre_set = set(genre_list)\n",
    "    genre_set = genre_set.union(new_genre_set)\n",
    "#genre_set"
   ]
  },
  {
   "cell_type": "code",
   "execution_count": 84,
   "metadata": {},
   "outputs": [],
   "source": [
    "genre_plot_roi = []\n",
    "genre_comparison_df = pd.DataFrame\n",
    "for genre in genre_set:\n",
    "    roi_series = im_db_with_financial[im_db_with_financial['genres'].str.contains(genre) == True]['roi_worldwide']\n",
    "    roi_series.rename(genre,inplace=True)\n",
    "    genre_plot_roi.append(roi_series)\n"
   ]
  },
  {
   "cell_type": "code",
   "execution_count": 87,
   "metadata": {},
   "outputs": [
    {
     "data": {
      "image/png": "[encoded data removed]",
      "text/plain": [
       "<Figure size 1440x720 with 1 Axes>"
      ]
     },
     "metadata": {
      "needs_background": "light"
     },
     "output_type": "display_data"
    }
   ],
   "source": [
    "fig,ax = plt.subplots(figsize = (20,10))\n",
    "ax.boxplot(genre_plot_roi,labels = [series.name for series in genre_plot_roi],showfliers=False);\n",
    "ax.tick_params(axis='x',labelrotation=45)\n",
    "ax.axhline(y=0, color='k');"
   ]
  },
  {
   "cell_type": "code",
   "execution_count": null,
   "metadata": {},
   "outputs": [],
   "source": []
  }
 ],
 "metadata": {
  "kernelspec": {
   "display_name": "Python 3",
   "language": "python",
   "name": "python3"
  },
  "language_info": {
   "codemirror_mode": {
    "name": "ipython",
    "version": 3
   },
   "file_extension": ".py",
   "mimetype": "text/x-python",
   "name": "python",
   "nbconvert_exporter": "python",
   "pygments_lexer": "ipython3",
   "version": "3.8.5"
  }
 },
 "nbformat": 4,
 "nbformat_minor": 2
}
